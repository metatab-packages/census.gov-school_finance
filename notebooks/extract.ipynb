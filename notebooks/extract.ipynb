{
 "cells": [
  {
   "cell_type": "code",
   "execution_count": 1,
   "metadata": {},
   "outputs": [],
   "source": [
    "import seaborn as sns\n",
    "import metapack as mp\n",
    "import pandas as pd\n",
    "import numpy as np\n",
    "import matplotlib.pyplot as plt\n",
    "from IPython.display import display \n",
    "\n",
    "%matplotlib inline\n",
    "sns.set_context('notebook')\n",
    "mp.jupyter.init()\n"
   ]
  },
  {
   "cell_type": "code",
   "execution_count": 7,
   "metadata": {},
   "outputs": [
    {
     "data": {
      "text/html": [
       "<h1>Annual Survey of School System Finances</h1>\n",
       "<p><code>census.gov-school_finance-1.1.1</code> Last Update: 2022-07-16T17:49:54</p>\n",
       "<p>__</p>\n",
       "<h2>Documentation Links</h2>\n",
       "<ul>\n",
       "<li>\n",
       "<p>[Skip Navigation\n",
       "Within Data</p>\n",
       "<p>Data Tools &amp; Apps\n",
       "Errata Notes\n",
       "Tables</p>\n",
       "</li>\n",
       "</ul>\n",
       "<p>Annual Survey of School System Finances Tables](https://www.census.gov/programs-surveys/school-finances/data/tables.html) \n",
       "* <a href=\"https://www2.census.gov/programs-surveys/school-finances/technical-documentation/complete-technical-documentation/2020/school20doc.doc\">Documentation, 2020</a> Dataset documentation, including data dictionary</p>\n",
       "<h2>Contacts</h2>\n",
       "<ul>\n",
       "<li><strong>Wrangler</strong> <a href=\"mailto:eric@civicknowledge.com\">Eric Busboom</a>, <a href=\"http://civicknowledge.com\">Civic Knowledge</a></li>\n",
       "</ul>\n",
       "<h2>Resources</h2>\n",
       "<ul>\n",
       "<li><strong> <a href=\"notebooks/extract.ipynb#df\">school_finance</a></strong>. Combined school finance</li>\n",
       "</ul>\n",
       "<h2>References</h2>\n",
       "<p><ul><li> <strong><a href=\"https://www2.census.gov/programs-surveys/school-finances/tables/2020/secondary-education-finance/elsec20.xls\">sch_finance_20</a></strong>. All Data items, 2020</li><li> <strong><a href=\"https://www2.census.gov/programs-surveys/school-finances/tables/2019/secondary-education-finance/elsec19.xls\">sch_finance_19</a></strong>. All Data items, 2019</li><li> <strong><a href=\"https://www2.census.gov/programs-surveys/school-finances/tables/2018/secondary-education-finance/elsec18.xls\">sch_finance_18</a></strong>. All Data items, 2018</li><li> <strong><a href=\"https://www2.census.gov/programs-surveys/school-finances/tables/2017/secondary-education-finance/elsec17.xls\">sch_finance_17</a></strong>. All Data items, 2017</li><ul></p>"
      ],
      "text/plain": [
       "# Annual Survey of School System Finances\n",
       "`census.gov-school_finance-1.1.1` Last Update: 2022-07-16T17:49:54\n",
       "\n",
       "__\n",
       "\n",
       "\n",
       "## Documentation Links\n",
       "\n",
       "* [Skip Navigation\n",
       "Within Data\n",
       "\n",
       "    Data Tools & Apps\n",
       "    Errata Notes\n",
       "    Tables\n",
       "\n",
       "Annual Survey of School System Finances Tables](https://www.census.gov/programs-surveys/school-finances/data/tables.html) \n",
       "* [Documentation, 2020](https://www2.census.gov/programs-surveys/school-finances/technical-documentation/complete-technical-documentation/2020/school20doc.doc) Dataset documentation, including data dictionary\n",
       "\n",
       " \n",
       "\n",
       "## Contacts\n",
       "\n",
       "* **Wrangler** [Eric Busboom](mailto:eric@civicknowledge.com), [Civic Knowledge](http://civicknowledge.com)\n",
       "\n",
       "## Resources\n",
       "\n",
       "* ** [school_finance](notebooks/extract.ipynb#df)**. Combined school finance\n",
       "\n",
       "## References\n",
       "<ul><li> <strong><a href=\"https://www2.census.gov/programs-surveys/school-finances/tables/2020/secondary-education-finance/elsec20.xls\">sch_finance_20</a></strong>. All Data items, 2020</li><li> <strong><a href=\"https://www2.census.gov/programs-surveys/school-finances/tables/2019/secondary-education-finance/elsec19.xls\">sch_finance_19</a></strong>. All Data items, 2019</li><li> <strong><a href=\"https://www2.census.gov/programs-surveys/school-finances/tables/2018/secondary-education-finance/elsec18.xls\">sch_finance_18</a></strong>. All Data items, 2018</li><li> <strong><a href=\"https://www2.census.gov/programs-surveys/school-finances/tables/2017/secondary-education-finance/elsec17.xls\">sch_finance_17</a></strong>. All Data items, 2017</li><ul>\n"
      ]
     },
     "execution_count": 7,
     "metadata": {},
     "output_type": "execute_result"
    }
   ],
   "source": [
    "#pkg = mp.jupyter.open_package()\n",
    "pkg = mp.jupyter.open_source_package()\n",
    "pkg"
   ]
  },
  {
   "cell_type": "code",
   "execution_count": 3,
   "metadata": {},
   "outputs": [],
   "source": [
    "frames =  [ r.dataframe() for r in pkg.references() ]"
   ]
  },
  {
   "cell_type": "code",
   "execution_count": 4,
   "metadata": {},
   "outputs": [],
   "source": [
    "# Get all of the columns, then set any missing columns in each frame to none\n",
    "from functools import reduce \n",
    "all_cols = reduce(lambda a,b: a|set(b.columns), frames, set()  )\n",
    "\n",
    "for f in frames:\n",
    "    for c in all_cols:\n",
    "        if c not in f.columns:\n",
    "            f[c] = None\n",
    "\n",
    "# Normalize the frames to be the same as the last year. \n",
    "nframes = [f[frames[0].columns] for f in frames]           \n",
    "   \n",
    "# Then concat to a single dataset\n",
    "\n",
    "df = pd.concat(frames)\n",
    "df.columns = [c.lower() for c in df.columns]"
   ]
  },
  {
   "cell_type": "code",
   "execution_count": 5,
   "metadata": {},
   "outputs": [],
   "source": [
    "# Build a data dictionary\n",
    "from pathlib import Path\n",
    "d = {}\n",
    "for l in  (Path(pkg.doc_dir)/'docs'/'data_dict.txt').open().readlines():\n",
    "    l = l.strip().replace('*', '')\n",
    "    p = l.split('\\t')\n",
    "    if len(p)!=2:\n",
    "        continue\n",
    "    p = [e.strip() for e in p]\n",
    "    d[p[0].lower()] = p[1]\n",
    "    \n",
    "\n",
    "      "
   ]
  },
  {
   "cell_type": "code",
   "execution_count": 8,
   "metadata": {},
   "outputs": [],
   "source": [
    "for e in pkg.find('Table.Column'):\n",
    "    if not e.description:\n",
    "        e.description = d.get(e.name)\n",
    "    \n",
    "pkg.write()"
   ]
  },
  {
   "cell_type": "code",
   "execution_count": null,
   "metadata": {},
   "outputs": [],
   "source": []
  }
 ],
 "metadata": {
  "kernelspec": {
   "display_name": "Python 3",
   "language": "python",
   "name": "python3"
  },
  "language_info": {
   "codemirror_mode": {
    "name": "ipython",
    "version": 3
   },
   "file_extension": ".py",
   "mimetype": "text/x-python",
   "name": "python",
   "nbconvert_exporter": "python",
   "pygments_lexer": "ipython3",
   "version": "3.7.6"
  }
 },
 "nbformat": 4,
 "nbformat_minor": 4
}
